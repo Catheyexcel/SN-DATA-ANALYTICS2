{
 "cells": [
  {
   "cell_type": "code",
   "execution_count": 1,
   "metadata": {},
   "outputs": [
    {
     "name": "stdout",
     "output_type": "stream",
     "text": [
      "['bentley', 'mustang', 'chrysler', ['GTA', 'Mario', 'Gameboy']]\n"
     ]
    }
   ],
   "source": [
    "c = ['bentley', 'mustang', 'chrysler']\n",
    "\n",
    "d = ['GTA', 'Mario', 'Gameboy']\n",
    "\n",
    "c.append(d)\n",
    "\n",
    "print(c)"
   ]
  },
  {
   "cell_type": "code",
   "execution_count": 2,
   "metadata": {},
   "outputs": [
    {
     "name": "stdout",
     "output_type": "stream",
     "text": [
      "['apple', ['apple1', 'apple2', 'apple3', 'apple4']]\n"
     ]
    }
   ],
   "source": [
    "fruit = [\"apple\"]\n",
    "apple = [\"apple1\", \"apple2\", \"apple3\", \"apple4\"]\n",
    "\n",
    "fruit.append(apple)\n",
    "\n",
    "print(fruit)"
   ]
  },
  {
   "cell_type": "code",
   "execution_count": null,
   "metadata": {},
   "outputs": [],
   "source": []
  }
 ],
 "metadata": {
  "kernelspec": {
   "display_name": "Python 3",
   "language": "python",
   "name": "python3"
  },
  "language_info": {
   "codemirror_mode": {
    "name": "ipython",
    "version": 3
   },
   "file_extension": ".py",
   "mimetype": "text/x-python",
   "name": "python",
   "nbconvert_exporter": "python",
   "pygments_lexer": "ipython3",
   "version": "3.8.5"
  }
 },
 "nbformat": 4,
 "nbformat_minor": 4
}
