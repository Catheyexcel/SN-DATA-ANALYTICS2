{
 "cells": [
  {
   "cell_type": "markdown",
   "metadata": {},
   "source": [
    "fromkeys()\n",
    "\n",
    "dict.fromkeys(keys, value)\n",
    "x = ('key1', 'key2', 'key3')\n",
    "y = 0\n",
    "\n",
    "thisdict = dict.fromkeys(x, y)\n",
    "\n",
    "print(thisdict)"
   ]
  },
  {
   "cell_type": "markdown",
   "metadata": {},
   "source": [
    "get()\n",
    "\n",
    "phone = {\n",
    "  \"brand\": \"Samsung\",\n",
    "  \"model\": \"A71\",\n",
    "  \"year\": 2018\n",
    "}\n",
    "\n",
    "x = phone.get(\"price\", 150000)\n",
    "\n",
    "print(x)"
   ]
  },
  {
   "cell_type": "markdown",
   "metadata": {},
   "source": [
    "items()\n",
    "\n",
    "phone = {\n",
    "  \"brand\": \"Samsung\",\n",
    "  \"model\": \"A71\",\n",
    "  \"year\": 2018\n",
    "}\n",
    "\n",
    "x = phone.items()\n",
    "\n",
    "print(x)"
   ]
  },
  {
   "cell_type": "code",
   "execution_count": null,
   "metadata": {},
   "outputs": [],
   "source": [
    "keys()\n",
    "\n",
    "phone = {\n",
    "  \"brand\": \"Samsung\",\n",
    "  \"model\": \"A71\",\n",
    "  \"year\": 2018\n",
    "}\n",
    "\n",
    "x = phone.keys()\n",
    "\n",
    "print(x)"
   ]
  },
  {
   "cell_type": "code",
   "execution_count": null,
   "metadata": {},
   "outputs": [],
   "source": [
    "pop()\n",
    "\n",
    "Remove the second element of the cars list.\n",
    "cars = ['mustang', 'camry', 'highlander']\n",
    "\n",
    "cars.pop(1)"
   ]
  },
  {
   "cell_type": "code",
   "execution_count": null,
   "metadata": {},
   "outputs": [],
   "source": [
    "popitem()\n",
    "\n",
    "phone = {\n",
    "  \"brand\": \"Samsung\",\n",
    "  \"model\": \"A71\",\n",
    "  \"year\": 2018\n",
    "}\n",
    "\n",
    "phone.popitem()\n",
    "\n",
    "print(phone)"
   ]
  },
  {
   "cell_type": "code",
   "execution_count": null,
   "metadata": {},
   "outputs": [],
   "source": [
    "setdefault()\n",
    "\n",
    "phone = {\n",
    "  \"brand\": \"Samsung\",\n",
    "  \"model\": \"A71\",\n",
    "  \"year\": 2018\n",
    "}\n",
    "\n",
    "x = phone.setdefault(\"color\", \"white\")\n",
    "\n",
    "print(x)"
   ]
  },
  {
   "cell_type": "code",
   "execution_count": null,
   "metadata": {},
   "outputs": [],
   "source": [
    "update()\n",
    "\n",
    "phone = {\n",
    "  \"brand\": \"Samsung\",\n",
    "  \"model\": \"A71\",\n",
    "  \"year\": 2018\n",
    "}\n",
    "\n",
    "phone.update({\"color\": \"White\"})\n",
    "\n",
    "print(phone)"
   ]
  },
  {
   "cell_type": "markdown",
   "metadata": {},
   "source": [
    "values()\n",
    "\n",
    "phone = {\n",
    "  \"brand\": \"Samsung\",\n",
    "  \"model\": \"A71\",\n",
    "  \"year\": 2018\n",
    "}\n",
    "\n",
    "x = phone.values()\n",
    "\n",
    "phone[\"year\"] = 2020\n",
    "\n",
    "print(x)"
   ]
  }
 ],
 "metadata": {
  "kernelspec": {
   "display_name": "Python 3",
   "language": "python",
   "name": "python3"
  },
  "language_info": {
   "codemirror_mode": {
    "name": "ipython",
    "version": 3
   },
   "file_extension": ".py",
   "mimetype": "text/x-python",
   "name": "python",
   "nbconvert_exporter": "python",
   "pygments_lexer": "ipython3",
   "version": "3.8.5"
  }
 },
 "nbformat": 4,
 "nbformat_minor": 4
}
