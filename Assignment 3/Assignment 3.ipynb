{
 "cells": [
  {
   "cell_type": "markdown",
   "metadata": {},
   "source": [
    "1) lower()\n",
    "converts all characters of a string to lowercase\n",
    "\n",
    "Use case/application\n",
    "txt = \"Hello World\"\n",
    "txt.lower()\n",
    "'hello world'\n",
    "\n",
    "Code block\n",
    "string = input(catherine)"
   ]
  },
  {
   "cell_type": "markdown",
   "metadata": {},
   "source": [
    "2) upper()\n",
    "Converts a string into upper case\n",
    "txt = \"Hello World\"\n",
    "txt.upper(\" \")\n",
    "'HELLO WORLD'\n"
   ]
  },
  {
   "cell_type": "markdown",
   "metadata": {},
   "source": [
    "3) Format()\n",
    "Formats specified values in a string\n",
    "price = 49\n",
    "txt = \"The price is {} dollars\"\n",
    "print(txt.format(price))\n"
   ]
  },
  {
   "cell_type": "markdown",
   "metadata": {},
   "source": [
    "4) title()\n",
    "Converts the first character of each word to upper case\n",
    "txt = \"hello world\"\n",
    "txt.title()\n",
    "'Hello World'\n"
   ]
  },
  {
   "cell_type": "markdown",
   "metadata": {},
   "source": [
    "5) replace()\n",
    "Returns a string where a specified value is replaced with a specified value\n",
    "txt = \"Hello World\"\n",
    "Replace the character \"H\" with \"J\"\n",
    "txt.replace(\"H\",\"J\")\n",
    "'Jello World'\n"
   ]
  },
  {
   "cell_type": "markdown",
   "metadata": {},
   "source": [
    "6) split()\n",
    "Splits the string at the specified separator, and returns a list\n",
    "\"This will split all words into a list\".split()\n",
    "['This', 'will', 'split', 'all', 'words', 'into', 'a', 'list']"
   ]
  },
  {
   "cell_type": "markdown",
   "metadata": {},
   "source": [
    "7) len()\n",
    "it is used to check the length of a user input (password is greater than 6)\n",
    "x = \"Hello World\"\n",
    "print(len(x))\n"
   ]
  },
  {
   "cell_type": "markdown",
   "metadata": {},
   "source": [
    "8) join()\n",
    "it is used to join the elements of an iterable to the end of the string\n",
    "['This', 'will', 'split', 'all', 'words', 'into', 'a', 'list']\n",
    "txt.join(['This', 'will', 'join', 'all', 'words', 'into', 'a', 'string'])\n",
    "'This will join all words into a string'"
   ]
  },
  {
   "cell_type": "markdown",
   "metadata": {},
   "source": [
    "9) endswith()\n",
    "Returns true if the string ends with the specified value\n",
    "txt = \"Hello, welcome to my world.\"\n",
    "\n",
    "x = txt.endswith(\"my world.\")\n",
    "\n",
    "print(x)\n",
    "True\n"
   ]
  },
  {
   "cell_type": "markdown",
   "metadata": {},
   "source": [
    "10) isalnum()\n",
    "Returns True if all characters in the string are alphanumeric\n",
    "\"This will split all words into 4 lists\".isalnum()\n",
    "True\n"
   ]
  },
  {
   "cell_type": "markdown",
   "metadata": {},
   "source": [
    "11) isalpha()\n",
    "Returns True if all characters in the string are in the alphabet\n",
    "\"This will split all words into a list\".isalpha()\n",
    "True\n"
   ]
  },
  {
   "cell_type": "markdown",
   "metadata": {},
   "source": [
    "12) isdecimal()\n",
    "Returns True if all characters in the string are decimals\n",
    "s = \"12345\"\n",
    "print(s.isdecimal())\n",
    "True"
   ]
  },
  {
   "cell_type": "markdown",
   "metadata": {},
   "source": [
    "13) isupper()\n",
    "Returns True if all characters in the string are upper case\n",
    "\"THIS WILL SPLIT ALL WORDS INTO A LIST\".isupper()\n",
    "True"
   ]
  },
  {
   "cell_type": "markdown",
   "metadata": {},
   "source": [
    "14) startswith()\n",
    "Returns true if the string starts with the specified value\n",
    "txt = \"Hello, welcome to my world.\"\n",
    "\n",
    "x = txt.startswith(\"Hello\")\n",
    "print(x)\n",
    "True\n"
   ]
  },
  {
   "cell_type": "markdown",
   "metadata": {},
   "source": [
    "15) islower()\n",
    "Returns True if all characters in the string are lower case\n",
    "\"this will split all words into a list\".islower()\n",
    "True\n"
   ]
  },
  {
   "cell_type": "code",
   "execution_count": null,
   "metadata": {},
   "outputs": [],
   "source": []
  }
 ],
 "metadata": {
  "kernelspec": {
   "display_name": "Python 3",
   "language": "python",
   "name": "python3"
  },
  "language_info": {
   "codemirror_mode": {
    "name": "ipython",
    "version": 3
   },
   "file_extension": ".py",
   "mimetype": "text/x-python",
   "name": "python",
   "nbconvert_exporter": "python",
   "pygments_lexer": "ipython3",
   "version": "3.8.5"
  }
 },
 "nbformat": 4,
 "nbformat_minor": 4
}
